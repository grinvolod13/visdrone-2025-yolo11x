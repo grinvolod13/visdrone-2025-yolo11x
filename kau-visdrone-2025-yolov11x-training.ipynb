{
 "cells": [
  {
   "cell_type": "markdown",
   "metadata": {},
   "source": [
    "# VisDrone 2025 object Detection for KAU - Using YOLO11x"
   ]
  },
  {
   "cell_type": "markdown",
   "metadata": {},
   "source": [
    "## Setup & imports"
   ]
  },
  {
   "cell_type": "code",
   "execution_count": null,
   "metadata": {
    "collapsed": true,
    "execution": {
     "iopub.execute_input": "2025-05-28T15:52:11.961861Z",
     "iopub.status.busy": "2025-05-28T15:52:11.961613Z",
     "iopub.status.idle": "2025-05-28T15:53:38.984456Z",
     "shell.execute_reply": "2025-05-28T15:53:38.983679Z",
     "shell.execute_reply.started": "2025-05-28T15:52:11.961846Z"
    },
    "jupyter": {
     "outputs_hidden": true
    },
    "trusted": true
   },
   "outputs": [],
   "source": [
    "%pip install ultralytics -q "
   ]
  },
  {
   "cell_type": "code",
   "execution_count": null,
   "metadata": {
    "execution": {
     "iopub.execute_input": "2025-05-28T15:53:38.986095Z",
     "iopub.status.busy": "2025-05-28T15:53:38.985845Z",
     "iopub.status.idle": "2025-05-28T15:53:38.990140Z",
     "shell.execute_reply": "2025-05-28T15:53:38.989425Z",
     "shell.execute_reply.started": "2025-05-28T15:53:38.986074Z"
    },
    "trusted": true
   },
   "outputs": [],
   "source": [
    "import numpy as np\n",
    "import matplotlib.pyplot as plt"
   ]
  },
  {
   "cell_type": "code",
   "execution_count": null,
   "metadata": {
    "execution": {
     "iopub.execute_input": "2025-05-28T15:53:38.991279Z",
     "iopub.status.busy": "2025-05-28T15:53:38.991051Z",
     "iopub.status.idle": "2025-05-28T15:53:40.001919Z",
     "shell.execute_reply": "2025-05-28T15:53:40.001342Z",
     "shell.execute_reply.started": "2025-05-28T15:53:38.991263Z"
    },
    "trusted": true
   },
   "outputs": [],
   "source": [
    "import PIL\n",
    "import supervision as sv"
   ]
  },
  {
   "cell_type": "code",
   "execution_count": null,
   "metadata": {
    "execution": {
     "iopub.execute_input": "2025-05-28T15:53:40.003466Z",
     "iopub.status.busy": "2025-05-28T15:53:40.003181Z",
     "iopub.status.idle": "2025-05-28T15:53:43.470141Z",
     "shell.execute_reply": "2025-05-28T15:53:43.469599Z",
     "shell.execute_reply.started": "2025-05-28T15:53:40.003448Z"
    },
    "trusted": true
   },
   "outputs": [],
   "source": [
    "from ultralytics import YOLO\n",
    "import ultralytics\n",
    "ultralytics.checks()"
   ]
  },
  {
   "cell_type": "code",
   "execution_count": null,
   "metadata": {
    "execution": {
     "iopub.execute_input": "2025-05-25T10:08:12.738266Z",
     "iopub.status.busy": "2025-05-25T10:08:12.737634Z",
     "iopub.status.idle": "2025-05-25T10:08:12.745001Z",
     "shell.execute_reply": "2025-05-25T10:08:12.743909Z",
     "shell.execute_reply.started": "2025-05-25T10:08:12.738226Z"
    },
    "trusted": true
   },
   "outputs": [],
   "source": [
    "yaml_text=\"\"\"\n",
    "path: /kaggle/input/visdrone-kau-2025-dataset-yolo-format\n",
    "train: train/images\n",
    "val: val/images\n",
    "test: test/images\n",
    "\n",
    "names:\n",
    "  0: pedestrian\n",
    "  1: people\n",
    "  2: bicycle\n",
    "  3: car\n",
    "  4: van\n",
    "  5: truck\n",
    "  6: tricycle\n",
    "  7: awning-tricycle\n",
    "  8: bus\n",
    "  9: motor\n",
    "\"\"\"\n",
    "with open(\"/kaggle/working/visdrone.yaml\", 'w') as f:\n",
    "    f.write(yaml_text)\n",
    "yaml = '/kaggle/working/visdrone.yaml'"
   ]
  },
  {
   "cell_type": "markdown",
   "metadata": {
    "_kg_hide-input": true,
    "_kg_hide-output": true
   },
   "source": [
    "## Training"
   ]
  },
  {
   "cell_type": "markdown",
   "metadata": {},
   "source": [
    "We fine-tuned Yolo11x model for 100 epohs, with the next parameters:\n",
    "* *batch size* - **24**\n",
    "* *optimizer* - **Adam**\n",
    "* *learning rate* - **0.001**\n",
    "* *image size* - **640**\n",
    "\n",
    "For training, we used **2x Tesla T4** GPU on Kaggle"
   ]
  },
  {
   "cell_type": "code",
   "execution_count": null,
   "metadata": {
    "execution": {
     "iopub.execute_input": "2025-05-18T19:06:58.916154Z",
     "iopub.status.busy": "2025-05-18T19:06:58.915753Z",
     "iopub.status.idle": "2025-05-18T19:07:01.614093Z",
     "shell.execute_reply": "2025-05-18T19:07:01.613238Z",
     "shell.execute_reply.started": "2025-05-18T19:06:58.916126Z"
    },
    "trusted": true
   },
   "outputs": [],
   "source": [
    "model = YOLO(\"yolo11x.pt\")"
   ]
  },
  {
   "cell_type": "code",
   "execution_count": null,
   "metadata": {
    "execution": {
     "iopub.execute_input": "2025-05-17T12:06:12.967021Z",
     "iopub.status.busy": "2025-05-17T12:06:12.966711Z",
     "iopub.status.idle": "2025-05-17T12:06:37.984450Z",
     "shell.execute_reply": "2025-05-17T12:06:37.983761Z",
     "shell.execute_reply.started": "2025-05-17T12:06:12.966996Z"
    },
    "trusted": true
   },
   "outputs": [],
   "source": [
    "%load_ext tensorboard\n",
    "%tensorboard --logdir \"/kaggle/working/runs/\""
   ]
  },
  {
   "cell_type": "code",
   "execution_count": null,
   "metadata": {
    "execution": {
     "execution_failed": "2025-05-19T05:45:52.562Z",
     "iopub.execute_input": "2025-05-18T19:07:48.311570Z",
     "iopub.status.busy": "2025-05-18T19:07:48.310971Z"
    },
    "trusted": true
   },
   "outputs": [],
   "source": [
    "results = model.train(data=yaml, epochs=100, batch=24, lr0=0.001, imgsz=640, device=[0,1], optimizer=\"Adam\", save_period=10, cache='ram', pretrained=True)"
   ]
  },
  {
   "cell_type": "markdown",
   "metadata": {},
   "source": [
    "## Training results"
   ]
  },
  {
   "cell_type": "code",
   "execution_count": null,
   "metadata": {
    "execution": {
     "iopub.execute_input": "2025-05-28T15:53:43.471420Z",
     "iopub.status.busy": "2025-05-28T15:53:43.470942Z",
     "iopub.status.idle": "2025-05-28T15:53:43.475741Z",
     "shell.execute_reply": "2025-05-28T15:53:43.475010Z",
     "shell.execute_reply.started": "2025-05-28T15:53:43.471391Z"
    },
    "trusted": true
   },
   "outputs": [],
   "source": [
    " %matplotlib inline"
   ]
  },
  {
   "cell_type": "code",
   "execution_count": null,
   "metadata": {
    "execution": {
     "iopub.execute_input": "2025-05-25T10:08:12.778280Z",
     "iopub.status.busy": "2025-05-25T10:08:12.777705Z",
     "iopub.status.idle": "2025-05-25T10:08:13.153115Z",
     "shell.execute_reply": "2025-05-25T10:08:13.151164Z",
     "shell.execute_reply.started": "2025-05-25T10:08:12.778243Z"
    },
    "jupyter": {
     "source_hidden": true
    },
    "trusted": true
   },
   "outputs": [],
   "source": [
    "PIL.Image.open(\"/kaggle/working/runs/detect/train4/results.png\")"
   ]
  },
  {
   "cell_type": "code",
   "execution_count": null,
   "metadata": {
    "execution": {
     "iopub.execute_input": "2025-05-25T10:08:13.155549Z",
     "iopub.status.busy": "2025-05-25T10:08:13.155027Z",
     "iopub.status.idle": "2025-05-25T10:08:13.686039Z",
     "shell.execute_reply": "2025-05-25T10:08:13.684867Z",
     "shell.execute_reply.started": "2025-05-25T10:08:13.155507Z"
    },
    "jupyter": {
     "source_hidden": true
    },
    "trusted": true
   },
   "outputs": [],
   "source": [
    "PIL.Image.open(\"/kaggle/working/runs/detect/train4/confusion_matrix.png\")"
   ]
  },
  {
   "cell_type": "code",
   "execution_count": null,
   "metadata": {
    "execution": {
     "iopub.execute_input": "2025-05-27T13:20:53.610947Z",
     "iopub.status.busy": "2025-05-27T13:20:53.610616Z",
     "iopub.status.idle": "2025-05-27T13:20:54.138849Z",
     "shell.execute_reply": "2025-05-27T13:20:54.137926Z",
     "shell.execute_reply.started": "2025-05-27T13:20:53.610921Z"
    },
    "trusted": true
   },
   "outputs": [],
   "source": [
    "PIL.Image.open(\"/kaggle/working/runs/detect/train4/val_batch1_pred.jpg\")"
   ]
  },
  {
   "cell_type": "code",
   "execution_count": null,
   "metadata": {
    "execution": {
     "iopub.execute_input": "2025-05-25T10:08:14.269478Z",
     "iopub.status.busy": "2025-05-25T10:08:14.269097Z",
     "iopub.status.idle": "2025-05-25T10:08:14.602692Z",
     "shell.execute_reply": "2025-05-25T10:08:14.600670Z",
     "shell.execute_reply.started": "2025-05-25T10:08:14.269453Z"
    },
    "jupyter": {
     "source_hidden": true
    },
    "trusted": true
   },
   "outputs": [],
   "source": [
    "PIL.Image.open(\"/kaggle/working/runs/detect/train4/F1_curve.png\")"
   ]
  },
  {
   "cell_type": "code",
   "execution_count": null,
   "metadata": {
    "execution": {
     "iopub.execute_input": "2025-05-25T10:08:14.604651Z",
     "iopub.status.busy": "2025-05-25T10:08:14.604178Z",
     "iopub.status.idle": "2025-05-25T10:08:14.936655Z",
     "shell.execute_reply": "2025-05-25T10:08:14.935276Z",
     "shell.execute_reply.started": "2025-05-25T10:08:14.604615Z"
    },
    "jupyter": {
     "source_hidden": true
    },
    "trusted": true
   },
   "outputs": [],
   "source": [
    "PIL.Image.open(\"/kaggle/working/runs/detect/train4/P_curve.png\")"
   ]
  },
  {
   "cell_type": "code",
   "execution_count": null,
   "metadata": {
    "execution": {
     "iopub.execute_input": "2025-05-21T15:06:41.466333Z",
     "iopub.status.busy": "2025-05-21T15:06:41.465460Z",
     "iopub.status.idle": "2025-05-21T15:06:41.673985Z",
     "shell.execute_reply": "2025-05-21T15:06:41.673292Z",
     "shell.execute_reply.started": "2025-05-21T15:06:41.466300Z"
    },
    "jupyter": {
     "source_hidden": true
    },
    "trusted": true
   },
   "outputs": [],
   "source": [
    "PIL.Image.open(\"/kaggle/working/runs/detect/train4/R_curve.png\")"
   ]
  },
  {
   "cell_type": "code",
   "execution_count": null,
   "metadata": {
    "execution": {
     "iopub.execute_input": "2025-05-21T15:04:59.875250Z",
     "iopub.status.busy": "2025-05-21T15:04:59.874958Z",
     "iopub.status.idle": "2025-05-21T15:05:00.092735Z",
     "shell.execute_reply": "2025-05-21T15:05:00.092053Z",
     "shell.execute_reply.started": "2025-05-21T15:04:59.875231Z"
    },
    "jupyter": {
     "source_hidden": true
    },
    "trusted": true
   },
   "outputs": [],
   "source": [
    "PIL.Image.open(\"/kaggle/working/runs/detect/train4/PR_curve.png\")"
   ]
  },
  {
   "cell_type": "markdown",
   "metadata": {},
   "source": [
    "### Model Score"
   ]
  },
  {
   "cell_type": "code",
   "execution_count": null,
   "metadata": {
    "execution": {
     "iopub.execute_input": "2025-05-28T15:55:20.103680Z",
     "iopub.status.busy": "2025-05-28T15:55:20.102983Z",
     "iopub.status.idle": "2025-05-28T15:55:22.850606Z",
     "shell.execute_reply": "2025-05-28T15:55:22.849979Z",
     "shell.execute_reply.started": "2025-05-28T15:55:20.103655Z"
    },
    "trusted": true
   },
   "outputs": [],
   "source": [
    "model = YOLO(\"/kaggle/working/runs/detect/train4/weights/best.pt\")"
   ]
  },
  {
   "cell_type": "code",
   "execution_count": null,
   "metadata": {
    "collapsed": true,
    "execution": {
     "iopub.execute_input": "2025-05-21T14:52:02.893683Z",
     "iopub.status.busy": "2025-05-21T14:52:02.893309Z",
     "iopub.status.idle": "2025-05-21T14:52:42.794789Z",
     "shell.execute_reply": "2025-05-21T14:52:42.793980Z",
     "shell.execute_reply.started": "2025-05-21T14:52:02.893656Z"
    },
    "jupyter": {
     "outputs_hidden": true
    },
    "trusted": true
   },
   "outputs": [],
   "source": [
    "model.val();"
   ]
  },
  {
   "cell_type": "markdown",
   "metadata": {},
   "source": [
    "## Inference results\n",
    "### Labels"
   ]
  },
  {
   "cell_type": "code",
   "execution_count": null,
   "metadata": {
    "execution": {
     "iopub.execute_input": "2025-05-28T15:55:26.285427Z",
     "iopub.status.busy": "2025-05-28T15:55:26.284932Z",
     "iopub.status.idle": "2025-05-28T15:55:32.002937Z",
     "shell.execute_reply": "2025-05-28T15:55:32.002020Z",
     "shell.execute_reply.started": "2025-05-28T15:55:26.285401Z"
    },
    "trusted": true
   },
   "outputs": [],
   "source": [
    "res = model(\"/kaggle/input/visdrone-kau-2025-dataset-yolo-format/val/images/0000001_02999_d_0000005.jpg\")[0]\n",
    "res.show()"
   ]
  },
  {
   "cell_type": "code",
   "execution_count": null,
   "metadata": {
    "execution": {
     "iopub.execute_input": "2025-05-28T15:55:32.005393Z",
     "iopub.status.busy": "2025-05-28T15:55:32.004597Z",
     "iopub.status.idle": "2025-05-28T15:55:32.449823Z",
     "shell.execute_reply": "2025-05-28T15:55:32.449012Z",
     "shell.execute_reply.started": "2025-05-28T15:55:32.005362Z"
    },
    "trusted": true
   },
   "outputs": [],
   "source": [
    "res = model(\"/kaggle/input/visdrone-kau-2025-dataset-yolo-format/val/images/0000001_05999_d_0000011.jpg\")[0]\n",
    "res.show()"
   ]
  },
  {
   "cell_type": "markdown",
   "metadata": {},
   "source": [
    "## Submission generation"
   ]
  },
  {
   "cell_type": "code",
   "execution_count": null,
   "metadata": {
    "execution": {
     "iopub.execute_input": "2025-05-19T05:59:23.696386Z",
     "iopub.status.busy": "2025-05-19T05:59:23.695756Z",
     "iopub.status.idle": "2025-05-19T05:59:25.056362Z",
     "shell.execute_reply": "2025-05-19T05:59:25.055525Z",
     "shell.execute_reply.started": "2025-05-19T05:59:23.696358Z"
    },
    "trusted": true
   },
   "outputs": [],
   "source": [
    "model = YOLO(\"/kaggle/working/runs/detect/train4/weights/best.pt\")"
   ]
  },
  {
   "cell_type": "code",
   "execution_count": null,
   "metadata": {
    "collapsed": true,
    "execution": {
     "iopub.execute_input": "2025-05-19T05:59:26.625238Z",
     "iopub.status.busy": "2025-05-19T05:59:26.624401Z",
     "iopub.status.idle": "2025-05-19T06:00:47.269947Z",
     "shell.execute_reply": "2025-05-19T06:00:47.269165Z",
     "shell.execute_reply.started": "2025-05-19T05:59:26.625207Z"
    },
    "jupyter": {
     "outputs_hidden": true
    },
    "trusted": true
   },
   "outputs": [],
   "source": [
    "test_results = model(\"/kaggle/input/visdrone-kau-2025-dataset-yolo-format/test/images/\")"
   ]
  },
  {
   "cell_type": "code",
   "execution_count": null,
   "metadata": {
    "collapsed": true,
    "execution": {
     "iopub.execute_input": "2025-05-19T06:00:47.276354Z",
     "iopub.status.busy": "2025-05-19T06:00:47.276102Z",
     "iopub.status.idle": "2025-05-19T06:00:49.230825Z",
     "shell.execute_reply": "2025-05-19T06:00:49.229867Z",
     "shell.execute_reply.started": "2025-05-19T06:00:47.276331Z"
    },
    "jupyter": {
     "outputs_hidden": true
    },
    "trusted": true
   },
   "outputs": [],
   "source": [
    "from tqdm.notebook import tqdm\n",
    "lines = []\n",
    "for result in tqdm(test_results):\n",
    "    index = int(result.path.split('.')[-2].split('/')[-1])\n",
    "    confs = result.boxes.conf\n",
    "    cls = result.boxes.cls\n",
    "    boxes = result.boxes.xyxy\n",
    "    line = f\"{index},\"\n",
    "    sublines = []\n",
    "    for lb, scr, box in zip(cls, confs, boxes):\n",
    "        l = f\"{int(lb)} {(float(scr))} \"\n",
    "        l+=' '.join(map(str, box.cpu().numpy().astype(int).tolist()))\n",
    "        sublines.append(l)\n",
    "    line += \" | \".join(sublines)\n",
    "    \n",
    "    if line== f\"{index},\":\n",
    "        line+=\" | \".join(prev)\n",
    "    else:\n",
    "        prev = sublines\n",
    "    line+='\\n'\n",
    "    \n",
    "    lines.append(line)"
   ]
  },
  {
   "cell_type": "code",
   "execution_count": null,
   "metadata": {
    "collapsed": true,
    "execution": {
     "iopub.execute_input": "2025-05-19T06:00:49.232348Z",
     "iopub.status.busy": "2025-05-19T06:00:49.232127Z",
     "iopub.status.idle": "2025-05-19T06:00:49.239238Z",
     "shell.execute_reply": "2025-05-19T06:00:49.238399Z",
     "shell.execute_reply.started": "2025-05-19T06:00:49.232330Z"
    },
    "jupyter": {
     "outputs_hidden": true
    },
    "trusted": true
   },
   "outputs": [],
   "source": [
    "with open('submission-yolo11x-100.csv', 'w') as f:\n",
    "    f.write(\"index,prediction_string\\n\")\n",
    "    lines[-1] = lines[-1][:-1]\n",
    "    f.writelines(lines)"
   ]
  }
 ],
 "metadata": {
  "kaggle": {
   "accelerator": "none",
   "dataSources": [
    {
     "datasetId": 7376124,
     "sourceId": 11749539,
     "sourceType": "datasetVersion"
    }
   ],
   "dockerImageVersionId": 31011,
   "isGpuEnabled": false,
   "isInternetEnabled": true,
   "language": "python",
   "sourceType": "notebook"
  },
  "kernelspec": {
   "display_name": "Python 3",
   "language": "python",
   "name": "python3"
  },
  "language_info": {
   "codemirror_mode": {
    "name": "ipython",
    "version": 3
   },
   "file_extension": ".py",
   "mimetype": "text/x-python",
   "name": "python",
   "nbconvert_exporter": "python",
   "pygments_lexer": "ipython3",
   "version": "3.12.4"
  }
 },
 "nbformat": 4,
 "nbformat_minor": 4
}
